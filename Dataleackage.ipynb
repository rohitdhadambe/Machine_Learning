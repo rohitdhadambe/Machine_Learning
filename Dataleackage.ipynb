{
 "cells": [
  {
   "cell_type": "code",
   "execution_count": 1,
   "metadata": {},
   "outputs": [],
   "source": [
    "\n",
    "# Data leakage in machine learning happens when the model gets to see information during training that it wouldn’t have access to\n",
    "#  in real-life scenarios. This \"cheat\" data makes the model look great during training but fail in the real world.\n",
    "\n",
    "\n",
    "\n",
    "# Why it's bad:\n",
    "# The model cheats by learning from info it shouldn't have.\n",
    "# It performs poorly on new, unseen data.\n",
    "# How to avoid it:\n",
    "# Split your data (train/test) before doing anything like scaling or feature engineering.\n",
    "# Use only information that would actually be available when making predictions in the real world.\n",
    "# Be careful about how you process data—apply transformations only to the training set and reuse them for the test set.\n",
    "# It’s like training for an exam with the answer key: you’ll pass the practice test but fail the real one!\n",
    "\n",
    "\n",
    "\n"
   ]
  },
  {
   "cell_type": "code",
   "execution_count": 2,
   "metadata": {},
   "outputs": [],
   "source": [
    "# Yes, data leakage is related to overfitting, but they are not the same thing.\n",
    "\n",
    "# Overfitting:\n",
    "# Happens when a model learns patterns too specific to the training data, including noise or irrelevant details, making it fail to generalize to new data.\n",
    "# The model becomes \"too good\" at the training data and performs poorly on unseen data.\n",
    "# Example: A model memorizes the exact training samples instead of learning general patterns.\n",
    "\n",
    "# Data Leakage:\n",
    "# Occurs when the model has access to information during training that it wouldn’t have in the real world (e.g., target data or future knowledge).\n",
    "# This makes the model appear to perform well during training or validation but fail in real-world scenarios.\n",
    "# Example: Using a feature like \"future sales revenue\" to predict \"next month's sales.\"\n",
    "\n",
    "# Connection:\n",
    "# Data leakage can cause overfitting because the model learns patterns it shouldn't, like memorizing leaked information.\n",
    "# Both lead to the same outcome: poor performance on new, real-world data.\n"
   ]
  },
  {
   "cell_type": "code",
   "execution_count": 4,
   "metadata": {},
   "outputs": [],
   "source": [
    "# ---------------------------------------------------------------------------------------------------------------------------------------------\n",
    "\n",
    "# Simple analogy:\n",
    "\n",
    "# Overfitting is like studying answers instead of understanding the subject.\n",
    "# Data leakage is like sneaking in answers for the test.\n",
    "# In both cases, \n",
    "# you’ll fail with the real world data\n",
    "\n"
   ]
  },
  {
   "cell_type": "code",
   "execution_count": 5,
   "metadata": {},
   "outputs": [],
   "source": [
    "# Important------> Data leakage is not overfitting they are related concepts but data leakage can causeway overfittong"
   ]
  },
  {
   "cell_type": "code",
   "execution_count": null,
   "metadata": {},
   "outputs": [],
   "source": [
    "# In data leakage We give all data for the training and for, testing we directly give real world data that makes the model inaccuradata leakagete \n",
    "# this is all about Which is an in valid Process\n",
    "\n",
    "#In overfitting our algorithm works well with training data but fails with testing data this is on about overfitting\n",
    "\n",
    "\n",
    "#Hence for this purpose we need to train test and split the data"
   ]
  }
 ],
 "metadata": {
  "kernelspec": {
   "display_name": "Python 3",
   "language": "python",
   "name": "python3"
  },
  "language_info": {
   "codemirror_mode": {
    "name": "ipython",
    "version": 3
   },
   "file_extension": ".py",
   "mimetype": "text/x-python",
   "name": "python",
   "nbconvert_exporter": "python",
   "pygments_lexer": "ipython3",
   "version": "3.12.5"
  }
 },
 "nbformat": 4,
 "nbformat_minor": 2
}
